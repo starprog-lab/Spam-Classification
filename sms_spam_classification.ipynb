{
  "nbformat_minor": 0,
  "cells": [
    {
      "execution_count": null,
      "outputs": [],
      "source": "SMS Spam classification Comparision between different model (SVM, Gaussian Naive Bayes, Logistic Regression, Multi-layer Perceptron classifier and Decision Tree)",
      "cell_type": "markdown",
      "metadata": {
        "_uuid": "a5093388bb8717bd9ad61b37f33237abbf5c697c",
        "collapsed": false,
        "_cell_guid": "9bd239e3-5a47-431c-8834-39676d0b4abe",
        "_execution_state": "idle"
      }
    },
    {
      "execution_count": 1,
      "outputs": [
        {
          "output_type": "stream",
          "name": "stdout",
          "text": "spam.csv\n\n"
        }
      ],
      "source": "# This Python 3 environment comes with many helpful analytics libraries installed\n# It is defined by the kaggle/python docker image: https://github.com/kaggle/docker-python\n# For example, here's several helpful packages to load in \n\nimport numpy as np # linear algebra\nimport pandas as pd # data processing, CSV file I/O (e.g. pd.read_csv)\n\n# Input data files are available in the \"../input/\" directory.\n# For example, running this (by clicking run or pressing Shift+Enter) will list the files in the input directory\n\nfrom subprocess import check_output\nprint(check_output([\"ls\", \"../input\"]).decode(\"utf8\"))\n\n# Any results you write to the current directory are saved as output.",
      "cell_type": "code",
      "metadata": {
        "_uuid": "5fa9f2866c19d8f3037abcb3274f880de962a239",
        "_cell_guid": "576cf62f-5677-42f5-a3ef-99516ba6e0f6",
        "_execution_state": "idle",
        "trusted": false
      }
    },
    {
      "execution_count": 2,
      "outputs": [
        {
          "output_type": "execute_result",
          "data": {
            "text/plain": "     v1                                                 v2 Unnamed: 2  \\\n0   ham  Go until jurong point, crazy.. Available only ...        NaN   \n1   ham                      Ok lar... Joking wif u oni...        NaN   \n2  spam  Free entry in 2 a wkly comp to win FA Cup fina...        NaN   \n3   ham  U dun say so early hor... U c already then say...        NaN   \n4   ham  Nah I don't think he goes to usf, he lives aro...        NaN   \n\n  Unnamed: 3 Unnamed: 4  \n0        NaN        NaN  \n1        NaN        NaN  \n2        NaN        NaN  \n3        NaN        NaN  \n4        NaN        NaN  ",
            "text/html": "<div>\n<style>\n    .dataframe thead tr:only-child th {\n        text-align: right;\n    }\n\n    .dataframe thead th {\n        text-align: left;\n    }\n\n    .dataframe tbody tr th {\n        vertical-align: top;\n    }\n</style>\n<table border=\"1\" class=\"dataframe\">\n  <thead>\n    <tr style=\"text-align: right;\">\n      <th></th>\n      <th>v1</th>\n      <th>v2</th>\n      <th>Unnamed: 2</th>\n      <th>Unnamed: 3</th>\n      <th>Unnamed: 4</th>\n    </tr>\n  </thead>\n  <tbody>\n    <tr>\n      <th>0</th>\n      <td>ham</td>\n      <td>Go until jurong point, crazy.. Available only ...</td>\n      <td>NaN</td>\n      <td>NaN</td>\n      <td>NaN</td>\n    </tr>\n    <tr>\n      <th>1</th>\n      <td>ham</td>\n      <td>Ok lar... Joking wif u oni...</td>\n      <td>NaN</td>\n      <td>NaN</td>\n      <td>NaN</td>\n    </tr>\n    <tr>\n      <th>2</th>\n      <td>spam</td>\n      <td>Free entry in 2 a wkly comp to win FA Cup fina...</td>\n      <td>NaN</td>\n      <td>NaN</td>\n      <td>NaN</td>\n    </tr>\n    <tr>\n      <th>3</th>\n      <td>ham</td>\n      <td>U dun say so early hor... U c already then say...</td>\n      <td>NaN</td>\n      <td>NaN</td>\n      <td>NaN</td>\n    </tr>\n    <tr>\n      <th>4</th>\n      <td>ham</td>\n      <td>Nah I don't think he goes to usf, he lives aro...</td>\n      <td>NaN</td>\n      <td>NaN</td>\n      <td>NaN</td>\n    </tr>\n  </tbody>\n</table>\n</div>"
          },
          "metadata": {},
          "execution_count": 2
        }
      ],
      "source": "data = pd.read_csv('../input/spam.csv',encoding='latin1')\ndata.head()",
      "cell_type": "code",
      "metadata": {
        "_uuid": "f1e99e86ee9d3da6bbcc27ea7c94119b309bfb73",
        "collapsed": false,
        "_cell_guid": "e7ce9751-7d92-4fed-a521-6339d314239e",
        "_execution_state": "idle",
        "trusted": false
      }
    },
    {
      "execution_count": 3,
      "outputs": [],
      "source": "del data['Unnamed: 2']\ndel data['Unnamed: 3']\ndel data['Unnamed: 4']",
      "cell_type": "code",
      "metadata": {
        "_uuid": "4e61c5235d7d4fc24ad4185fde427212415f2926",
        "collapsed": false,
        "_cell_guid": "ec04966f-f9e7-4ecc-a06f-cb78e1203628",
        "_execution_state": "idle",
        "trusted": false
      }
    },
    {
      "execution_count": 4,
      "outputs": [
        {
          "output_type": "execute_result",
          "data": {
            "text/plain": "     v1                                                 v2\n0   ham  Go until jurong point, crazy.. Available only ...\n1   ham                      Ok lar... Joking wif u oni...\n2  spam  Free entry in 2 a wkly comp to win FA Cup fina...\n3   ham  U dun say so early hor... U c already then say...\n4   ham  Nah I don't think he goes to usf, he lives aro...",
            "text/html": "<div>\n<style>\n    .dataframe thead tr:only-child th {\n        text-align: right;\n    }\n\n    .dataframe thead th {\n        text-align: left;\n    }\n\n    .dataframe tbody tr th {\n        vertical-align: top;\n    }\n</style>\n<table border=\"1\" class=\"dataframe\">\n  <thead>\n    <tr style=\"text-align: right;\">\n      <th></th>\n      <th>v1</th>\n      <th>v2</th>\n    </tr>\n  </thead>\n  <tbody>\n    <tr>\n      <th>0</th>\n      <td>ham</td>\n      <td>Go until jurong point, crazy.. Available only ...</td>\n    </tr>\n    <tr>\n      <th>1</th>\n      <td>ham</td>\n      <td>Ok lar... Joking wif u oni...</td>\n    </tr>\n    <tr>\n      <th>2</th>\n      <td>spam</td>\n      <td>Free entry in 2 a wkly comp to win FA Cup fina...</td>\n    </tr>\n    <tr>\n      <th>3</th>\n      <td>ham</td>\n      <td>U dun say so early hor... U c already then say...</td>\n    </tr>\n    <tr>\n      <th>4</th>\n      <td>ham</td>\n      <td>Nah I don't think he goes to usf, he lives aro...</td>\n    </tr>\n  </tbody>\n</table>\n</div>"
          },
          "metadata": {},
          "execution_count": 4
        }
      ],
      "source": "data.head()",
      "cell_type": "code",
      "metadata": {
        "_uuid": "adb4c6b657bbef4f85fbae8c216613a19b9927ac",
        "collapsed": false,
        "_cell_guid": "d414f060-abaf-49f4-b05b-689396fd25ef",
        "_execution_state": "idle",
        "trusted": false
      }
    },
    {
      "execution_count": 5,
      "outputs": [
        {
          "output_type": "execute_result",
          "data": {
            "text/plain": "   v1                                                 v2\n0   0  Go until jurong point, crazy.. Available only ...\n1   0                      Ok lar... Joking wif u oni...\n2   1  Free entry in 2 a wkly comp to win FA Cup fina...\n3   0  U dun say so early hor... U c already then say...\n4   0  Nah I don't think he goes to usf, he lives aro...",
            "text/html": "<div>\n<style>\n    .dataframe thead tr:only-child th {\n        text-align: right;\n    }\n\n    .dataframe thead th {\n        text-align: left;\n    }\n\n    .dataframe tbody tr th {\n        vertical-align: top;\n    }\n</style>\n<table border=\"1\" class=\"dataframe\">\n  <thead>\n    <tr style=\"text-align: right;\">\n      <th></th>\n      <th>v1</th>\n      <th>v2</th>\n    </tr>\n  </thead>\n  <tbody>\n    <tr>\n      <th>0</th>\n      <td>0</td>\n      <td>Go until jurong point, crazy.. Available only ...</td>\n    </tr>\n    <tr>\n      <th>1</th>\n      <td>0</td>\n      <td>Ok lar... Joking wif u oni...</td>\n    </tr>\n    <tr>\n      <th>2</th>\n      <td>1</td>\n      <td>Free entry in 2 a wkly comp to win FA Cup fina...</td>\n    </tr>\n    <tr>\n      <th>3</th>\n      <td>0</td>\n      <td>U dun say so early hor... U c already then say...</td>\n    </tr>\n    <tr>\n      <th>4</th>\n      <td>0</td>\n      <td>Nah I don't think he goes to usf, he lives aro...</td>\n    </tr>\n  </tbody>\n</table>\n</div>"
          },
          "metadata": {},
          "execution_count": 5
        }
      ],
      "source": "data['v1'] = data['v1'].replace(['ham','spam'],[0,1])\ndata.head()",
      "cell_type": "code",
      "metadata": {
        "_uuid": "bc35a33f7fdf312a8d7985654fa4b6aa048744de",
        "collapsed": false,
        "_cell_guid": "39fb2933-142f-404d-af6f-5944bb2cc0e1",
        "_execution_state": "idle",
        "trusted": false
      }
    },
    {
      "execution_count": 6,
      "outputs": [
        {
          "output_type": "stream",
          "name": "stdout",
          "text": "(5572,)\n(5572,)\n"
        }
      ],
      "source": "y = data['v1'].as_matrix()\nX_text = data['v2'].as_matrix() \nprint(X_text.shape)\nprint(y.shape)",
      "cell_type": "code",
      "metadata": {
        "_uuid": "e40f766c3bdda58726ea5e76e53bf244a1ceeedf",
        "collapsed": false,
        "_cell_guid": "8eb816b4-c1cb-42e1-b227-e703378efffe",
        "_execution_state": "idle",
        "trusted": false
      }
    },
    {
      "execution_count": 7,
      "outputs": [
        {
          "output_type": "stream",
          "name": "stdout",
          "text": "8536\n"
        }
      ],
      "source": "from sklearn.feature_extraction.text import CountVectorizer\nfrom nltk.corpus import stopwords\nsw = stopwords.words(\"english\")\ncv = CountVectorizer(stop_words =sw)\ntcv = cv.fit_transform(X_text).toarray()\n#print(cv.vocabulary_)\nprint(len(tcv[0,:]))",
      "cell_type": "code",
      "metadata": {
        "_uuid": "fd573c7af2f0da68cfd3a2572d184fde9fc6248a",
        "collapsed": false,
        "_cell_guid": "94f28013-abf4-4724-9e5a-31e3d8b5d81c",
        "_execution_state": "idle",
        "trusted": false
      }
    },
    {
      "execution_count": 8,
      "outputs": [
        {
          "output_type": "stream",
          "name": "stdout",
          "text": "(5572, 8536)\n(5572,)\n"
        }
      ],
      "source": "print(tcv.shape)\nprint(y.shape)",
      "cell_type": "code",
      "metadata": {
        "_uuid": "03ae67281becb10bf648e4779cda83a826f86e8c",
        "collapsed": false,
        "_cell_guid": "bf7bd1ff-2f07-4f47-8c59-e09080983dad",
        "_execution_state": "idle",
        "trusted": false
      }
    },
    {
      "execution_count": 9,
      "outputs": [
        {
          "output_type": "stream",
          "name": "stdout",
          "text": "(5572, 8536)\n(5572,)\n"
        }
      ],
      "source": "from sklearn.feature_extraction.text import TfidfVectorizer\nvectorizer = TfidfVectorizer(stop_words=sw,lowercase=True)\nX = vectorizer.fit_transform(X_text).toarray()\nprint(X.shape)\nprint(y.shape)",
      "cell_type": "code",
      "metadata": {
        "_uuid": "a84b9c21b9838a3546ab03b12a772a5215cee362",
        "collapsed": false,
        "_cell_guid": "6e73c47c-af03-4692-b8df-86d3bff89a32",
        "_execution_state": "idle",
        "trusted": false
      }
    },
    {
      "execution_count": 10,
      "outputs": [],
      "source": "from sklearn.model_selection import train_test_split\nX_train, X_test, y_train, y_test = train_test_split(X, y, test_size=0.3, random_state=42)",
      "metadata": {
        "_uuid": "06c6a7d2b448aa161ee4032ea7b82014d6b45531",
        "collapsed": false,
        "_cell_guid": "0ae976db-4101-4c93-8524-498c1aaa25a9",
        "_execution_state": "idle",
        "trusted": false
      },
      "cell_type": "code"
    },
    {
      "execution_count": 11,
      "outputs": [
        {
          "output_type": "execute_result",
          "data": {
            "text/plain": "0.9425837320574163"
          },
          "metadata": {},
          "execution_count": 11
        }
      ],
      "source": "from sklearn.linear_model import LogisticRegression\nfrom sklearn.metrics import accuracy_score\nclf = LogisticRegression()\nclf.fit(X_train,y_train)\npred = clf.predict(X_test)\naccuracy_score(y_test,pred)",
      "cell_type": "code",
      "metadata": {
        "_uuid": "6619b6d1de7f9504c0f5210f0b46f8ea6fd0442a",
        "collapsed": false,
        "_cell_guid": "66b6051d-92d1-4d25-9827-d70ffe1e45b3",
        "_execution_state": "idle",
        "trusted": false
      }
    },
    {
      "execution_count": 12,
      "outputs": [
        {
          "output_type": "execute_result",
          "data": {
            "text/plain": "0.88696172248803828"
          },
          "metadata": {},
          "execution_count": 12
        }
      ],
      "source": "from sklearn.naive_bayes import GaussianNB\nclf = GaussianNB()\nclf.fit(X_train,y_train)\npred = clf.predict(X_test)\naccuracy_score(y_test,pred)",
      "cell_type": "code",
      "metadata": {
        "_uuid": "8c4beeb010eb6fe12118d3ef2f8a142ebca752f5",
        "collapsed": false,
        "_cell_guid": "979f2da4-2e2b-44b4-a369-943109ad149b",
        "_execution_state": "idle",
        "trusted": false
      }
    },
    {
      "execution_count": 13,
      "outputs": [
        {
          "output_type": "execute_result",
          "data": {
            "text/plain": "0.9814593301435407"
          },
          "metadata": {},
          "execution_count": 13
        }
      ],
      "source": "from sklearn.neural_network import MLPClassifier\nclf = MLPClassifier(hidden_layer_sizes=(500,500))\nclf.fit(X_train,y_train)\npred = clf.predict(X_test)\naccuracy_score(y_test,pred)",
      "cell_type": "code",
      "metadata": {
        "_uuid": "6b23a71b2e2501c94a5722eae4be559c779bc3bb",
        "collapsed": false,
        "_cell_guid": "998e35b3-6561-487b-9da5-ae34215c13ed",
        "_execution_state": "idle",
        "trusted": false
      }
    },
    {
      "execution_count": 14,
      "outputs": [
        {
          "output_type": "execute_result",
          "data": {
            "text/plain": "0.97368421052631582"
          },
          "metadata": {},
          "execution_count": 14
        }
      ],
      "source": "from sklearn import tree\nclf = tree.DecisionTreeClassifier()\nclf.fit(X_train,y_train)\npred = clf.predict(X_test)\naccuracy_score(y_test,pred)",
      "cell_type": "code",
      "metadata": {
        "_uuid": "9d4b70a5c3c61c2581ee708926e2da02f1038039",
        "collapsed": false,
        "_cell_guid": "d479724f-71e3-4efc-b1d0-dc063d6f6f81",
        "_execution_state": "idle",
        "trusted": false
      }
    },
    {
      "execution_count": 15,
      "outputs": [
        {
          "output_type": "execute_result",
          "data": {
            "text/plain": "0.94437799043062198"
          },
          "metadata": {},
          "execution_count": 15
        }
      ],
      "source": "from sklearn.svm import SVC\nclf = SVC(gamma=0.1,C=1,kernel='rbf')\nclf.fit(X_train,y_train)\npred = clf.predict(X_test)\naccuracy_score(y_test,pred)",
      "cell_type": "code",
      "metadata": {
        "_uuid": "8b3eafd5ec51e1fe9a1862255071f1837d67f99f",
        "collapsed": false,
        "_cell_guid": "b4f97513-ce97-4f0e-abba-1a85a3caf2c7",
        "_execution_state": "idle",
        "trusted": false
      }
    }
  ],
  "nbformat": 4,
  "metadata": {
    "kernelspec": {
      "display_name": "Python 3",
      "language": "python",
      "name": "python3"
    },
    "language_info": {
      "name": "python",
      "version": "3.6.1",
      "mimetype": "text/x-python",
      "codemirror_mode": {
        "name": "ipython",
        "version": 3
      },
      "pygments_lexer": "ipython3",
      "nbconvert_exporter": "python",
      "file_extension": ".py"
    }
  }
}